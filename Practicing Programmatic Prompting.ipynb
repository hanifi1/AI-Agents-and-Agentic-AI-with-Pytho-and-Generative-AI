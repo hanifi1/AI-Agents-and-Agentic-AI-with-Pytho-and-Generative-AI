{
 "cells": [
  {
   "cell_type": "code",
   "execution_count": 14,
   "id": "9b4015dc",
   "metadata": {},
   "outputs": [],
   "source": [
    "from typing import List, Dict\n",
    "\n",
    "import os\n",
    "from dotenv import load_dotenv\n",
    "load_dotenv()  # Automatically looks for \".env\"\n",
    "\n",
    "\n",
    "api_key = os.getenv('OPENAI_API_KEY')\n",
    "os.environ['OPENAI_API_KEY'] = api_key"
   ]
  },
  {
   "cell_type": "code",
   "execution_count": 27,
   "id": "9d8bed34",
   "metadata": {},
   "outputs": [],
   "source": [
    "from litellm import completion\n",
    "\n",
    "\n",
    "\n",
    "def generate_response(messages: List[Dict]) -> str:\n",
    "    \"\"\"Call LLM to get response\"\"\"\n",
    "    response = completion(\n",
    "        model=\"openai/gpt-4o\",\n",
    "        api_key= api_key,\n",
    "        messages=messages,\n",
    "        max_tokens=1024\n",
    "    )\n",
    "    return response.choices[0].message.content"
   ]
  },
  {
   "cell_type": "code",
   "execution_count": 28,
   "id": "ea3cb1c7",
   "metadata": {},
   "outputs": [],
   "source": [
    "def python_function(note: str) -> str:\n",
    "    \"\"\"This is simple function that takes a wery simple string describing what kind of function needs to created by the LLM\"\"\"\n",
    "    return f\"Write a Python function that {note}\""
   ]
  },
  {
   "cell_type": "code",
   "execution_count": 29,
   "id": "1c2b0439",
   "metadata": {},
   "outputs": [],
   "source": [
    "def message_function(note: str = \"takes a list of numbers and returns their sum\") -> List[Dict[str, str]]:\n",
    "    messages = [\n",
    "        {\"role\": \"system\", \"content\": \"You are an expert python programmer.\"},\n",
    "        {\"role\": \"user\", \"content\": python_function(note)}\n",
    "    ]\n",
    "    return messages\n"
   ]
  },
  {
   "cell_type": "code",
   "execution_count": 39,
   "id": "1fc6079e",
   "metadata": {},
   "outputs": [],
   "source": [
    "note = 'For each integer if it is even, divide it by 2 otherwise multiply it by 3 and add 1. Repeat this process until the number becomes 1. Return the list of numbers that were generated in this process for each integer in the input list'"
   ]
  },
  {
   "cell_type": "code",
   "execution_count": 40,
   "id": "02e8d395",
   "metadata": {},
   "outputs": [
    {
     "data": {
      "text/plain": [
       "[{'role': 'system', 'content': 'You are an expert python programmer.'},\n",
       " {'role': 'user',\n",
       "  'content': 'Write a Python function that For each integer if it is even, divide it by 2 otherwise multiply it by 3 and add 1. Repeat this process until the number becomes 1. Return the list of numbers that were generated in this process for each integer in the input list'}]"
      ]
     },
     "execution_count": 40,
     "metadata": {},
     "output_type": "execute_result"
    }
   ],
   "source": [
    "message = message_function(note)\n",
    "message"
   ]
  },
  {
   "cell_type": "code",
   "execution_count": 41,
   "id": "d83c7296",
   "metadata": {},
   "outputs": [
    {
     "name": "stdout",
     "output_type": "stream",
     "text": [
      "To solve this problem, we can implement a function that applies the specified operations on each integer in the input list and tracks the sequence of numbers until reaching 1. We'll create a function called `generate_sequence` that takes a list of integers and returns a list of lists, where each sublist contains the sequence of numbers generated for each integer in the input list.\n",
      "\n",
      "Here's one way to implement this function:\n",
      "\n",
      "```python\n",
      "def generate_sequence(numbers):\n",
      "    def process_number(n):\n",
      "        sequence = []\n",
      "        while n != 1:\n",
      "            sequence.append(n)\n",
      "            if n % 2 == 0:\n",
      "                n //= 2\n",
      "            else:\n",
      "                n = n * 3 + 1\n",
      "        sequence.append(1)  # Append 1 at the end as it will be the last number in the sequence\n",
      "        return sequence\n",
      "    \n",
      "    result = [process_number(n) for n in numbers]\n",
      "    return result\n",
      "\n",
      "# Example usage:\n",
      "input_list = [6, 11, 3, 7]\n",
      "sequences = generate_sequence(input_list)\n",
      "for index, seq in enumerate(sequences):\n",
      "    print(f\"Sequence for {input_list[index]}: {seq}\")\n",
      "```\n",
      "\n",
      "### Explanation:\n",
      "\n",
      "1. **Function `process_number`**: This helper function computes the sequence for a single integer. It initializes an empty list `sequence` to store the sequence of numbers. It then repeatedly applies the specified operations on the number until it becomes 1, appending each intermediate result to the `sequence` list.\n",
      "\n",
      "2. **Main Function `generate_sequence`**: This function applies `process_number` to each integer in the provided `numbers` list using a list comprehension and collects all sequences in `result`.\n",
      "\n",
      "3. **Usage**: You can call `generate_sequence` with any list of integers and it will return a list of sequences, each corresponding to an integer in the input list.\n",
      "\n",
      "This function efficiently computes the desired sequences for each integer and organizes the results as specified.\n"
     ]
    }
   ],
   "source": [
    "response = generate_response(message)\n",
    "print(response)"
   ]
  },
  {
   "cell_type": "code",
   "execution_count": 23,
   "id": "7f205d27",
   "metadata": {},
   "outputs": [],
   "source": [
    "def extract_code_block(response: str) -> str:\n",
    "    \"\"\"Extract code block from response\"\"\"\n",
    "    if not '```' in response:\n",
    "        return response\n",
    "\n",
    "    code_block = response.split('```')[1].strip()\n",
    "    if code_block.startswith(\"python\"):\n",
    "        code_block = code_block[6:]\n",
    "\n",
    "    return code_block"
   ]
  },
  {
   "cell_type": "code",
   "execution_count": 24,
   "id": "c8984b0a",
   "metadata": {},
   "outputs": [
    {
     "name": "stdout",
     "output_type": "stream",
     "text": [
      "\n",
      "def collatz_steps(numbers):\n",
      "    def collatz(n):\n",
      "        steps = 0\n",
      "        while n != 1:\n",
      "            if n % 2 == 0:\n",
      "                n = n // 2\n",
      "            else:\n",
      "                n = n * 3 + 1\n",
      "            steps += 1\n",
      "        return steps\n",
      "\n",
      "    return [collatz(number) for number in numbers]\n",
      "\n",
      "# Example usage:\n",
      "numbers = [12, 19, 27]\n",
      "steps = collatz_steps(numbers)\n",
      "print(steps)  # Output: [9, 20, 111]\n"
     ]
    }
   ],
   "source": [
    "extract = extract_code_block(response)\n",
    "print(extract)"
   ]
  },
  {
   "cell_type": "code",
   "execution_count": 43,
   "id": "934b72d5",
   "metadata": {},
   "outputs": [],
   "source": [
    "def generate_sequence(numbers):\n",
    "    def process_number(n):\n",
    "        sequence = []\n",
    "        while n != 1:\n",
    "            sequence.append(n)\n",
    "            if n % 2 == 0:\n",
    "                n //= 2\n",
    "            else:\n",
    "                n = n * 3 + 1\n",
    "        sequence.append(1)  # Append 1 at the end as it will be the last number in the sequence\n",
    "        return sequence\n",
    "    \n",
    "    result = [process_number(n) for n in numbers]\n",
    "    return result"
   ]
  },
  {
   "cell_type": "code",
   "execution_count": 44,
   "id": "89b64e34",
   "metadata": {},
   "outputs": [],
   "source": [
    "# def collatz_steps(n):\n",
    "#     \"\"\"Compute the number of steps it takes for a single integer n to reach 1.\"\"\"\n",
    "#     steps = 0\n",
    "#     num_lst = []\n",
    "#     while n != 1:\n",
    "#         if n % 2 == 0:\n",
    "#             n //= 2\n",
    "#             num_lst.append(n)\n",
    "#         else:\n",
    "#             n = n * 3 + 1\n",
    "#             num_lst.append(n)\n",
    "\n",
    "#     return num_lst\n",
    "\n",
    "# def collatz_steps_for_list(numbers):\n",
    "#     \"\"\"Compute the number of Collatz steps for each integer in the list.\"\"\"\n",
    "#     result = {}\n",
    "#     for number in numbers:\n",
    "#         result[number] = collatz_steps(number)\n",
    "#     return result"
   ]
  },
  {
   "cell_type": "code",
   "execution_count": 45,
   "id": "552c7172",
   "metadata": {},
   "outputs": [
    {
     "ename": "TypeError",
     "evalue": "'int' object is not iterable",
     "output_type": "error",
     "traceback": [
      "\u001b[0;31m---------------------------------------------------------------------------\u001b[0m",
      "\u001b[0;31mTypeError\u001b[0m                                 Traceback (most recent call last)",
      "Cell \u001b[0;32mIn[45], line 1\u001b[0m\n\u001b[0;32m----> 1\u001b[0m generate_sequence(\u001b[38;5;241m10\u001b[39m)\n",
      "Cell \u001b[0;32mIn[43], line 13\u001b[0m, in \u001b[0;36mgenerate_sequence\u001b[0;34m(numbers)\u001b[0m\n\u001b[1;32m     10\u001b[0m     sequence\u001b[38;5;241m.\u001b[39mappend(\u001b[38;5;241m1\u001b[39m)  \u001b[38;5;66;03m# Append 1 at the end as it will be the last number in the sequence\u001b[39;00m\n\u001b[1;32m     11\u001b[0m     \u001b[38;5;28;01mreturn\u001b[39;00m sequence\n\u001b[0;32m---> 13\u001b[0m result \u001b[38;5;241m=\u001b[39m [process_number(n) \u001b[38;5;28;01mfor\u001b[39;00m n \u001b[38;5;129;01min\u001b[39;00m numbers]\n\u001b[1;32m     14\u001b[0m \u001b[38;5;28;01mreturn\u001b[39;00m result\n",
      "\u001b[0;31mTypeError\u001b[0m: 'int' object is not iterable"
     ]
    }
   ],
   "source": [
    "generate_sequence(10)"
   ]
  },
  {
   "cell_type": "code",
   "execution_count": null,
   "id": "08ee70c2",
   "metadata": {},
   "outputs": [],
   "source": []
  }
 ],
 "metadata": {
  "kernelspec": {
   "display_name": "base",
   "language": "python",
   "name": "python3"
  },
  "language_info": {
   "codemirror_mode": {
    "name": "ipython",
    "version": 3
   },
   "file_extension": ".py",
   "mimetype": "text/x-python",
   "name": "python",
   "nbconvert_exporter": "python",
   "pygments_lexer": "ipython3",
   "version": "3.12.7"
  }
 },
 "nbformat": 4,
 "nbformat_minor": 5
}
