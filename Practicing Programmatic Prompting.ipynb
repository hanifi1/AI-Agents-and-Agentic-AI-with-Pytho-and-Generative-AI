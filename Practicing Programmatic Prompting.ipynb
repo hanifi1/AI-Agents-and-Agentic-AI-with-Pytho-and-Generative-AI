{
 "cells": [
  {
   "cell_type": "code",
   "execution_count": 1,
   "id": "9b4015dc",
   "metadata": {},
   "outputs": [],
   "source": [
    "import os\n",
    "from dotenv import load_dotenv\n",
    "load_dotenv()  # Automatically looks for \".env\"\n",
    "\n",
    "api_key = os.getenv('OPENAI_API_KEY')\n",
    "os.environ['OPENAI_API_KEY'] = api_key"
   ]
  },
  {
   "cell_type": "code",
   "execution_count": 2,
   "id": "9d8bed34",
   "metadata": {},
   "outputs": [],
   "source": [
    "from litellm import completion\n",
    "from typing import List, Dict\n",
    "\n",
    "\n",
    "def generate_response(messages: List[Dict]) -> str:\n",
    "    \"\"\"Call LLM to get response\"\"\"\n",
    "    response = completion(\n",
    "        model=\"openai/gpt-4o\",\n",
    "        api_key= api_key,\n",
    "        messages=messages,\n",
    "        max_tokens=1024\n",
    "    )\n",
    "    return response.choices[0].message.content"
   ]
  },
  {
   "cell_type": "code",
   "execution_count": 3,
   "id": "1c2b0439",
   "metadata": {},
   "outputs": [
    {
     "name": "stdout",
     "output_type": "stream",
     "text": [
      "To convert Roman numerals into integers, you'll need to create a function that can interpret the various Roman numeral characters and the rules for their combinations. Below is a Python function that achieves this:\n",
      "\n",
      "```python\n",
      "def roman_to_int(roman):\n",
      "    roman_to_int_map = {\n",
      "        'I': 1,\n",
      "        'V': 5,\n",
      "        'X': 10,\n",
      "        'L': 50,\n",
      "        'C': 100,\n",
      "        'D': 500,\n",
      "        'M': 1000\n",
      "    }\n",
      "    \n",
      "    total = 0\n",
      "    prev_value = 0\n",
      "    \n",
      "    # Iterate over the Roman numeral from right to left\n",
      "    for char in reversed(roman):\n",
      "        # Get the integer value of the current Roman numeral\n",
      "        value = roman_to_int_map[char]\n",
      "        \n",
      "        # If the current value is less than the previous value, subtract it\n",
      "        if value < prev_value:\n",
      "            total -= value\n",
      "        else:\n",
      "            # Otherwise, add it\n",
      "            total += value\n",
      "        \n",
      "        # Update the previous value to the current one for the next iteration\n",
      "        prev_value = value\n",
      "    \n",
      "    return total\n",
      "\n",
      "# Example usage:\n",
      "print(roman_to_int('III'))    # Output: 3\n",
      "print(roman_to_int('IV'))     # Output: 4\n",
      "print(roman_to_int('IX'))     # Output: 9\n",
      "print(roman_to_int('LVIII'))  # Output: 58\n",
      "print(roman_to_int('MCMXCIV'))# Output: 1994\n",
      "```\n",
      "\n",
      "### How It Works:\n",
      "1. **Mapping:** A dictionary `roman_to_int_map` maps each Roman numeral symbol to its respective integer value.\n",
      "2. **Iterating from Right to Left:** The function processes the input string from right to left. This allows the function to correctly handle cases where a smaller numeral appears before a larger numeral (e.g., \"IV\" for 4).\n",
      "3. **Value Comparison:** For each Roman numeral character:\n",
      "   - If the current value is smaller than the previous value, it subtracts it from the total. This handles cases like IV (4) and IX (9).\n",
      "   - Otherwise, it adds the value to the total.\n",
      "4. **Updating the Previous Value:** It tracks the last processed numeral's value to determine if the current character is part of a subtractive combination.\n"
     ]
    }
   ],
   "source": [
    "messages = [\n",
    "    {\"role\": \"system\", \"content\": \"You are an expert python programmer.\"},\n",
    "    {\"role\": \"user\", \"content\": \"Write a function to turn roman numerals into numbers.\"}\n",
    "]\n",
    "\n",
    "\n",
    "\n",
    "response = generate_response(messages)\n",
    "print(response)"
   ]
  },
  {
   "cell_type": "code",
   "execution_count": null,
   "id": "02e8d395",
   "metadata": {},
   "outputs": [],
   "source": []
  },
  {
   "cell_type": "code",
   "execution_count": null,
   "id": "4ff23094",
   "metadata": {},
   "outputs": [],
   "source": []
  },
  {
   "cell_type": "code",
   "execution_count": null,
   "id": "c8984b0a",
   "metadata": {},
   "outputs": [],
   "source": []
  }
 ],
 "metadata": {
  "kernelspec": {
   "display_name": "base",
   "language": "python",
   "name": "python3"
  },
  "language_info": {
   "codemirror_mode": {
    "name": "ipython",
    "version": 3
   },
   "file_extension": ".py",
   "mimetype": "text/x-python",
   "name": "python",
   "nbconvert_exporter": "python",
   "pygments_lexer": "ipython3",
   "version": "3.12.7"
  }
 },
 "nbformat": 4,
 "nbformat_minor": 5
}
