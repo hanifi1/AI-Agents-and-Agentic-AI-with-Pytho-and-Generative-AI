{
 "cells": [
  {
   "cell_type": "code",
   "execution_count": 1,
   "id": "9b4015dc",
   "metadata": {},
   "outputs": [],
   "source": [
    "import os\n",
    "from dotenv import load_dotenv\n",
    "load_dotenv()  # Automatically looks for \".env\"\n",
    "\n",
    "api_key = os.getenv('OPENAI_API_KEY')\n",
    "os.environ['OPENAI_API_KEY'] = api_key"
   ]
  },
  {
   "cell_type": "code",
   "execution_count": 5,
   "id": "9d8bed34",
   "metadata": {},
   "outputs": [],
   "source": [
    "from litellm import completion\n",
    "from typing import List, Dict\n",
    "\n",
    "\n",
    "def generate_response(messages: List[Dict]) -> str:\n",
    "    \"\"\"Call LLM to get response\"\"\"\n",
    "    response = completion(\n",
    "        model=\"openai/gpt-4o\",\n",
    "        api_key= api_key,\n",
    "        messages=messages,\n",
    "        max_tokens=1024\n",
    "    )\n",
    "    return response.choices[0].message.content"
   ]
  },
  {
   "cell_type": "code",
   "execution_count": 6,
   "id": "ea3cb1c7",
   "metadata": {},
   "outputs": [],
   "source": [
    "def python_function(note: str) -> str:\n",
    "    \"\"\"This is simple function that takes a wery simple string describing what kind of function needs to created by the LLM\"\"\"\n",
    "    return f\"Write a Python function that {note}\""
   ]
  },
  {
   "cell_type": "code",
   "execution_count": 16,
   "id": "1c2b0439",
   "metadata": {},
   "outputs": [
    {
     "ename": "IndentationError",
     "evalue": "unindent does not match any outer indentation level (<string>, line 6)",
     "output_type": "error",
     "traceback": [
      "\u001b[0;36m  File \u001b[0;32m<string>:6\u001b[0;36m\u001b[0m\n\u001b[0;31m    return messages\u001b[0m\n\u001b[0m                        ^\u001b[0m\n\u001b[0;31mIndentationError\u001b[0m\u001b[0;31m:\u001b[0m unindent does not match any outer indentation level\n"
     ]
    }
   ],
   "source": [
    "def message_function(note: str = \"takes a list of numbers and returns their sum\") -> list[Dict]:\n",
    "     messages = [\n",
    "        {\"role\": \"system\", \"content\": \"You are an expert python programmer.\"},\n",
    "        {\"role\": \"user\", f\"content\": python_function(note)},\n",
    "    ]\n",
    "    return messages     \n",
    "\n",
    "\n",
    "\n",
    "# response = generate_response(message_function('convetts Roman numerals to integers'))\n",
    "# print(response)"
   ]
  },
  {
   "cell_type": "code",
   "execution_count": 14,
   "id": "02e8d395",
   "metadata": {},
   "outputs": [],
   "source": [
    "message_function('convetts Roman numerals to integers')"
   ]
  },
  {
   "cell_type": "code",
   "execution_count": null,
   "id": "4ff23094",
   "metadata": {},
   "outputs": [],
   "source": []
  },
  {
   "cell_type": "code",
   "execution_count": null,
   "id": "c8984b0a",
   "metadata": {},
   "outputs": [],
   "source": []
  }
 ],
 "metadata": {
  "kernelspec": {
   "display_name": "base",
   "language": "python",
   "name": "python3"
  },
  "language_info": {
   "codemirror_mode": {
    "name": "ipython",
    "version": 3
   },
   "file_extension": ".py",
   "mimetype": "text/x-python",
   "name": "python",
   "nbconvert_exporter": "python",
   "pygments_lexer": "ipython3",
   "version": "3.12.7"
  }
 },
 "nbformat": 4,
 "nbformat_minor": 5
}
