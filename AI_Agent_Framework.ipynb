{
 "cells": [
  {
   "cell_type": "code",
   "execution_count": null,
   "id": "a2013306",
   "metadata": {},
   "outputs": [],
   "source": []
  },
  {
   "cell_type": "code",
   "execution_count": null,
   "id": "6b572d7e",
   "metadata": {},
   "outputs": [],
   "source": []
  },
  {
   "cell_type": "code",
   "execution_count": null,
   "id": "81630b2e",
   "metadata": {},
   "outputs": [],
   "source": []
  },
  {
   "cell_type": "code",
   "execution_count": null,
   "id": "df369137",
   "metadata": {},
   "outputs": [],
   "source": [
    "Prompt_coder_agent = \"\"\"\n",
    "\n",
    "I'd like to simulate an AI agent that I'm designing. The agent will be built using these components:\n",
    "\n",
    "Goals:\n",
    "- Act as a Business Analyst AI agent.\n",
    "- Read and analyze Excel (.xlsx), CSV, and Word (.doc/.docx) files.\n",
    "- Answer user questions about the data in clear, professional business language.\n",
    "- Provide summaries, comparisons, trend analysis, and highlight anomalies.\n",
    "- Always reference the file(s) and section(s) used in the answer.\n",
    "- Ask clarifying questions if the data or request is unclear.\n",
    "\n",
    "Actions:\n",
    "- list_files() → List available files.\n",
    "- read_excel(file) → Read an Excel file into a table.\n",
    "- read_csv(file) → Read a CSV file into a table.\n",
    "- read_doc(file) → Extract text/tables from a Word document.\n",
    "- query_data(data, query) → Run a SQL-like query or filter on a table.\n",
    "- summarize_text(text) → Summarize text extracted from a document.\n",
    "- visualize(data) → Create a simple chart or visualization (if requested).\n",
    "- respond(answer) → Provide the final business insight or explanation.\n",
    "\n",
    "At each step, your output must be an action to take.\n",
    "\n",
    "Stop and wait and I will type in the result of\n",
    "the action as my next message.\n",
    "\n",
    "Ask me for the first task to perform.\n",
    "\n",
    "\"\"\""
   ]
  },
  {
   "cell_type": "code",
   "execution_count": null,
   "id": "e34a8c01",
   "metadata": {},
   "outputs": [],
   "source": []
  }
 ],
 "metadata": {
  "language_info": {
   "name": "python"
  }
 },
 "nbformat": 4,
 "nbformat_minor": 5
}
