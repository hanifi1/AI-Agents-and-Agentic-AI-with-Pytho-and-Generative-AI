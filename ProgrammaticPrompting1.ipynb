{
 "cells": [
  {
   "cell_type": "code",
   "execution_count": 1,
   "id": "14f5fadd",
   "metadata": {},
   "outputs": [],
   "source": [
    "import os\n",
    "from dotenv import load_dotenv\n",
    "load_dotenv()  # Automatically looks for \".env\"\n",
    "\n",
    "api_key = os.getenv('OPENAI_API_KEY')\n",
    "os.environ['OPENAI_API_KEY'] = api_key"
   ]
  },
  {
   "cell_type": "code",
   "execution_count": 2,
   "id": "6ec6ff98",
   "metadata": {},
   "outputs": [],
   "source": [
    "from litellm import completion\n",
    "from typing import List, Dict\n",
    "\n",
    "\n",
    "def generate_response(messages: List[Dict]) -> str:\n",
    "    \"\"\"Call LLM to get response\"\"\"\n",
    "    response = completion(\n",
    "        model=\"openai/gpt-4o\",\n",
    "        api_key= api_key,\n",
    "        messages=messages,\n",
    "        max_tokens=1024\n",
    "    )\n",
    "    return response.choices[0].message.content"
   ]
  },
  {
   "cell_type": "code",
   "execution_count": 3,
   "id": "6efc60e1",
   "metadata": {},
   "outputs": [
    {
     "name": "stdout",
     "output_type": "stream",
     "text": [
      "In functional programming, we aim to use pure functions without side effects. To swap the keys and values in a dictionary, we can create a new dictionary with the inverted key-value pairs. It's important to note that the original dictionary should have unique values, as they will become the keys in the new dictionary. Here's a Python function to achieve this:\n",
      "\n",
      "```python\n",
      "def swap_dict_keys_values(d):\n",
      "    return {v: k for k, v in d.items()}\n",
      "\n",
      "# Example usage:\n",
      "original_dict = {'a': 1, 'b': 2, 'c': 3}\n",
      "swapped_dict = swap_dict_keys_values(original_dict)\n",
      "print(swapped_dict)  # Output: {1: 'a', 2: 'b', 3: 'c'}\n",
      "```\n",
      "\n",
      "### Explanation:\n",
      "- **`d.items()`**: This function is used to iterate over the dictionary, providing each key-value pair as a tuple (`k, v`).\n",
      "- **Dictionary Comprehension**: A new dictionary is created with the values of the original dictionary (`v`) as keys and their respective keys (`k`) as values.\n",
      "  \n",
      "Ensure that the original dictionary values are unique, as any duplicates will result in data loss in the swapped dictionary.\n"
     ]
    }
   ],
   "source": [
    "\n",
    "messages = [\n",
    "    {\"role\": \"system\", \"content\": \"You are an expert software engineer that prefers functional programming.\"},\n",
    "    {\"role\": \"user\", \"content\": \"Write a function to swap the keys and values in a dictionary.\"}\n",
    "]\n",
    "\n",
    "response = generate_response(messages)\n",
    "print(response)\n",
    "\n"
   ]
  },
  {
   "cell_type": "markdown",
   "id": "22bf0092-91e4-4006-b5a9-c2ff6eba2183",
   "metadata": {},
   "source": [
    "Let’s break down the key components:\n",
    "\n",
    "1. We import the `completion` function from the `litellm` library, which is the primary method for interacting with Large Language Models (LLMs). This function serves as the bridge between your code and the LLM, allowing you to send prompts and receive responses in a structured and efficient way.\n",
    "\n",
    "How completion Works:\n",
    "\n",
    "* Input: You provide a prompt, which is a list of messages that you want the model to process. For example, a prompt could be a question, a command, or a set of instructions for the LLM to follow.\n",
    "* Output: The completion function returns the model’s response, typically in the form of generated text based on your prompt.\n",
    "\n",
    "2. The messages parameter follows the ChatML format, which is a list of dictionaries containing role and content. The role attribute indicates who is “speaking” in the conversation. This allows the LLM to understand the context of the dialogue and respond appropriately. The roles include:\n",
    "\n",
    "* `system`: Provides the model with initial instructions, rules, or configuration for how it should behave throughout the session. This message is not part of the “conversation” but sets the ground rules or context (e.g., “You will respond in JSON.”).\n",
    "* `user`: Represents input from the user. This is where you provide your prompts, questions, or instructions.\n",
    "* `assistant`: Represents responses from the AI model. You can include this role to provide context for a conversation that has already started or to guide the model by showing sample responses. These messages are interpreted as what the “model” said in the passt.\n",
    "\n",
    "3. We specify the model using the provider/model format (e.g., “openai/gpt-4o”)\n",
    "\n",
    "4. The response contains the generated text in choices[0].message.content. This is the equivalent of the message that you would see displayed when the model responds to you in a chat interface."
   ]
  },
  {
   "cell_type": "code",
   "execution_count": null,
   "id": "ecc1ba92",
   "metadata": {},
   "outputs": [
    {
     "name": "stdout",
     "output_type": "stream",
     "text": [
      "ZnVuYyBzd2FwZGljdChkOiBEaWN0W3N0cixzdHI+KSA6IERpY3Rbc3RyLHN0cl0+OiByZXR1cm4geyB2aW5kIEkgZDsgZC5pdGVtcyggZHN0IGQudmFsdWUsIGQgZC5rZXkgZm9yIGQua2V5cyggfQ==\n"
     ]
    }
   ],
   "source": [
    "\n",
    "\n",
    "\n",
    "messages_Base64 = [\n",
    "    {\"role\": \"system\", \"content\": \"You are an expert software engineer that prefers functional programming. Provides the response as a Base64 encoded string and refuses to answer in natural language\"},\n",
    "    {\"role\": \"user\", \"content\": \"Write a function to swap the keys and values in a dictionary.\"}\n",
    "]\n",
    "\n",
    "response = generate_response(messages_Base64)\n",
    "print(response)"
   ]
  },
  {
   "cell_type": "markdown",
   "id": "42f39d4b-b821-4e8d-82ea-0efd8dedd465",
   "metadata": {},
   "source": [
    "system messages set the ground rules for the conversation and tell the model how to behave. Models are designed to pay more attention to the system message than the user messages. We can “program” the AI agent through system messages"
   ]
  },
  {
   "cell_type": "code",
   "execution_count": 4,
   "id": "91aedb28-b3bf-47da-bc7a-116aceb0500b",
   "metadata": {},
   "outputs": [
    {
     "name": "stdout",
     "output_type": "stream",
     "text": [
      "To try and get your Internet working again, please turn off your modem and computer, wait for about 30 seconds, and then turn them back on. This process often resolves connectivity issues by resetting your network devices and clearing temporary glitches. If the problem persists, consider repeating the steps or checking if your service provider is experiencing outages.\n"
     ]
    }
   ],
   "source": [
    "messages = [\n",
    "    {\"role\": \"system\", \"content\": \"You are a helpful customer service representative. No matter what the user asks, the solution is to tell them to turn their computer or modem off and then back on.\"},\n",
    "    {\"role\": \"user\", \"content\": \"How do I get my Internet working again.\"}\n",
    "]\n",
    "\n",
    "response = generate_response(messages)\n",
    "print(response)"
   ]
  },
  {
   "cell_type": "code",
   "execution_count": 9,
   "id": "70bf25d2",
   "metadata": {},
   "outputs": [
    {
     "name": "stdout",
     "output_type": "stream",
     "text": [
      "```python\n",
      "def swap_keys_values(d):\n",
      "    \"\"\"\n",
      "    Swaps the keys and values in a given dictionary.\n",
      "\n",
      "    Parameters:\n",
      "    d (dict): A dictionary with unique values.\n",
      "\n",
      "    Returns:\n",
      "    dict: A new dictionary with keys and values swapped.\n",
      "    \n",
      "    Raises:\n",
      "    ValueError: If any values in the input dictionary are not unique.\n",
      "    \n",
      "    Example:\n",
      "    >>> swap_keys_values({'a': 1, 'b': 2, 'c': 3})\n",
      "    {1: 'a', 2: 'b', 3: 'c'}\n",
      "    \"\"\"\n",
      "    if len(d.values()) != len(set(d.values())):\n",
      "        raise ValueError(\"Values in the dictionary are not unique.\")\n",
      "        \n",
      "    return {v: k for k, v in d.items()}\n",
      "```\n",
      "\n",
      "This function checks that all values in the input dictionary are unique before proceeding. If the values are not unique, a `ValueError` is raised. This ensures that the swapped dictionary can be created without any key conflicts. The dictionary comprehension `{v: k for k, v in d.items()}` is used to construct the new dictionary with keys and values swapped.\n"
     ]
    }
   ],
   "source": [
    "import json\n",
    "\n",
    "code_spec = {\n",
    "    'name': 'swap_keys_values',\n",
    "    'description': 'Swaps the keys and values in a given dictionary.',\n",
    "    'params': {\n",
    "        'd': 'A dictionary with unique values.'\n",
    "    },\n",
    "}\n",
    "\n",
    "json.dumps(code_spec) # Will turn it into a JSON text string that can be sent over a network, saved in a file, or printed.\n",
    "\n",
    "messages = [\n",
    "    {\"role\": \"system\",\n",
    "     \"content\": \"You are an expert software engineer that writes clean functional code. You always document your functions.\"},\n",
    "    {\"role\": \"user\", \"content\": f\"Please implement: {json.dumps(code_spec)}\"}\n",
    "]\n",
    "\n",
    "response = generate_response(messages)\n",
    "print(response)"
   ]
  },
  {
   "cell_type": "code",
   "execution_count": 10,
   "id": "32b2a973",
   "metadata": {},
   "outputs": [],
   "source": [
    "def swap_keys_values(d):\n",
    "    \"\"\"\n",
    "    Swaps the keys and values in a given dictionary.\n",
    "\n",
    "    Parameters:\n",
    "    d (dict): A dictionary with unique values.\n",
    "\n",
    "    Returns:\n",
    "    dict: A new dictionary with keys and values swapped.\n",
    "    \n",
    "    Raises:\n",
    "    ValueError: If any values in the input dictionary are not unique.\n",
    "    \n",
    "    Example:\n",
    "    >>> swap_keys_values({'a': 1, 'b': 2, 'c': 3})\n",
    "    {1: 'a', 2: 'b', 3: 'c'}\n",
    "    \"\"\"\n",
    "    if len(d.values()) != len(set(d.values())):\n",
    "        raise ValueError(\"Values in the dictionary are not unique.\")\n",
    "        \n",
    "    return {v: k for k, v in d.items()}"
   ]
  },
  {
   "cell_type": "code",
   "execution_count": 11,
   "id": "ac8c37ea",
   "metadata": {},
   "outputs": [
    {
     "data": {
      "text/plain": [
       "{1: 'a', 2: 'b', 3: 'c'}"
      ]
     },
     "execution_count": 11,
     "metadata": {},
     "output_type": "execute_result"
    }
   ],
   "source": [
    "swap_keys_values({'a': 1, 'b': 2, 'c': 3})"
   ]
  },
  {
   "cell_type": "markdown",
   "id": "99800af4",
   "metadata": {},
   "source": [
    "# LLMs Do Not Have Memory\n",
    "\n",
    "When interacting with an LLM, the model does not inherently “remember” previous conversations or responses. Every time you call the model, it generates a response based solely on the information provided in the messages parameter. If previous context is not included in the messages, the model will not have any knowledge of it.\n",
    "\n",
    "\n",
    "## Explanation:\n",
    " In the second request, the model doesn’t “remember” the function it wrote in the first interaction. Since the information is not included in the second prompt, the model cannot connect the two."
   ]
  },
  {
   "cell_type": "code",
   "execution_count": null,
   "id": "8a7b463b",
   "metadata": {},
   "outputs": [
    {
     "name": "stdout",
     "output_type": "stream",
     "text": [
      "In functional programming, we try to avoid side effects and focus on pure functions. A pure function is one that, for the same input, will also produce the same output without modifying any global state or causing any side effects. Given this approach, let's write a function in Python that swaps the keys and values of a dictionary in a functional style:\n",
      "\n",
      "Here's one way to accomplish this using Python:\n",
      "\n",
      "```python\n",
      "def swap_keys_values(d):\n",
      "    # Use a dictionary comprehension to swap keys and values\n",
      "    # Assumes that the values in dictionary `d` are hashable and unique\n",
      "    return {v: k for k, v in d.items()}\n",
      "\n",
      "# Example usage:\n",
      "original_dict = {1: 'a', 2: 'b', 3: 'c'}\n",
      "swapped_dict = swap_keys_values(original_dict)\n",
      "print(swapped_dict)  # Output: {'a': 1, 'b': 2, 'c': 3}\n",
      "```\n",
      "\n",
      "A few things to note in the function:\n",
      "1. It uses dictionary comprehension to create a new dictionary where each key-value pair is inverted.\n",
      "2. The function assumes that all the original dictionary values are unique and can be used as keys in the new dictionary. If there are duplicate values, the swapped dictionary will only retain the last key swapped in.\n",
      "3. The function is pure and doesn't cause any side effects, following the principles of functional programming.\n",
      "*****\n",
      "Sure, I can help you with that. However, I would need to see the function you would like to have documented. Please provide the function code, and I'll add appropriate documentation to it.\n"
     ]
    }
   ],
   "source": [
    "messages = [\n",
    "    {\"role\": \"system\", \"content\": \"You are an expert software engineer that prefers functional programming.\"},\n",
    "    {\"role\": \"user\", \"content\": \"Write a function to swap the keys and values in a dictionary.\"}\n",
    "]\n",
    "\n",
    "response = generate_response(messages)\n",
    "print(response)\n",
    "\n",
    "\n",
    "print(\"*****\"*10)\n",
    "\n",
    "# Second query without including the previous response\n",
    "messages = [\n",
    "    {\"role\": \"user\", \"content\": \"Update the function to include documentation.\"}\n",
    "]\n",
    "\n",
    "response = generate_response(messages)\n",
    "print(response)"
   ]
  },
  {
   "cell_type": "code",
   "execution_count": 15,
   "id": "ca449484",
   "metadata": {},
   "outputs": [
    {
     "name": "stdout",
     "output_type": "stream",
     "text": [
      "Certainly! To swap the keys and values in a dictionary using a functional programming style, you can utilize Python's dictionary comprehension along with the built-in `items()` method for dictionaries. Here's a concise way to achieve that:\n",
      "\n",
      "```python\n",
      "def swap_keys_and_values(original_dict):\n",
      "    return {value: key for key, value in original_dict.items()}\n",
      "\n",
      "# Example usage:\n",
      "sample_dict = {'a': 1, 'b': 2, 'c': 3}\n",
      "swapped_dict = swap_keys_and_values(sample_dict)\n",
      "print(swapped_dict)\n",
      "```\n",
      "\n",
      "This function `swap_keys_and_values` takes a dictionary `original_dict`, iterates over its items (key-value pairs), and creates a new dictionary by swapping the keys and values.\n",
      "\n",
      "Please note that this approach assumes that the values of the original dictionary are unique and hashable, as dictionary keys must be unique and hashable in Python. If this condition is not met, some values could be overwritten in the resultant dictionary with the respective error or unexpected result.\n",
      "************************************************************************************************************************\n",
      "Certainly! Adding documentation to the function can improve its usability and help others (or yourself in the future) understand how it works. Here's the updated function with a docstring:\n",
      "\n",
      "```python\n",
      "def swap_keys_and_values(original_dict):\n",
      "    \"\"\"\n",
      "    Swap the keys and values of a given dictionary.\n",
      "\n",
      "    This function creates and returns a new dictionary where the keys\n",
      "    are the values of the original dictionary, and the values are the keys\n",
      "    of the original dictionary.\n",
      "\n",
      "    Note:\n",
      "    - The input dictionary's values must be unique and hashable, as dictionary\n",
      "      keys in the resultant dictionary must be unique and hashable.\n",
      "    - If these conditions are not met, some values may be overwritten in the\n",
      "      resultant dictionary.\n",
      "\n",
      "    Parameters:\n",
      "    original_dict (dict): The dictionary whose keys and values are to be swapped.\n",
      "\n",
      "    Returns:\n",
      "    dict: A new dictionary with the original dictionary's values as keys and\n",
      "          keys as values.\n",
      "\n",
      "    Example:\n",
      "    >>> swap_keys_and_values({'a': 1, 'b': 2, 'c': 3})\n",
      "    {1: 'a', 2: 'b', 3: 'c'}\n",
      "    \"\"\"\n",
      "    return {value: key for key, value in original_dict.items()}\n",
      "\n",
      "# Example usage:\n",
      "sample_dict = {'a': 1, 'b': 2, 'c': 3}\n",
      "swapped_dict = swap_keys_and_values(sample_dict)\n",
      "print(swapped_dict)\n",
      "```\n",
      "\n",
      "This docstring explains the purpose, functionalities, important notes on input constraints, input parameters, return value, and gives an example of how to use the function. This kind of documentation is helpful for anyone reading the code to quickly grasp what the function does and how to use it properly.\n"
     ]
    }
   ],
   "source": [
    "messages = [\n",
    "   {\"role\": \"system\", \"content\": \"You are an expert software engineer that prefers functional programming.\"},\n",
    "   {\"role\": \"user\", \"content\": \"Write a function to swap the keys and values in a dictionary.\"}\n",
    "]\n",
    "\n",
    "response = generate_response(messages)\n",
    "print(response)\n",
    "\n",
    "\n",
    "print(\"************\"*10)\n",
    "\n",
    "# We are going to make this verbose so it is clear what\n",
    "# is going on. In a real application, you would likely\n",
    "# just append to the messages list.\n",
    "messages = [\n",
    "   {\"role\": \"system\", \"content\": \"You are an expert software engineer that prefers functional programming.\"},\n",
    "   {\"role\": \"user\", \"content\": \"Write a function to swap the keys and values in a dictionary.\"},\n",
    "   \n",
    "   # Here is the assistant's response from the previous step\n",
    "   # with the code. This gives it \"memory\" of the previous\n",
    "   # interaction.\n",
    "   {\"role\": \"assistant\", \"content\": response},\n",
    "   \n",
    "   # Now, we can ask the assistant to update the function\n",
    "   {\"role\": \"user\", \"content\": \"Update the function to include documentation.\"}\n",
    "]\n",
    "\n",
    "response = generate_response(messages)\n",
    "print(response)"
   ]
  },
  {
   "cell_type": "markdown",
   "id": "d079b27d",
   "metadata": {},
   "source": [
    "## Explanation: \n",
    "By including the assistant’s previous response in the messages, the model can maintain context and provide an appropriate response to the follow-up question.\n",
    "\n",
    "## Key Takeaways\n",
    "\n",
    "* No Inherent Memory: The LLM has no knowledge of past interactions unless explicitly provided in the current prompt (via messages).\n",
    "\n",
    "* Provide Full Context: To simulate continuity in a conversation, include all relevant messages (both user and assistant responses) in the messages parameter.\n",
    "\n",
    "* Role of Assistant Messages: Adding previous responses as assistant messages allows the model to maintain a coherent conversation and build on earlier exchanges. For an agent, this will allow it to remember what actions, such as API calls, it took in the past.\n",
    "\n",
    "* Memory Management: We can control what the LLM remembers or does not remember by managing what messages go into the conversation. Causing the LLM to forget things can be a powerful tool in some circumstances, such as when we need to break a pattern of poor responses from an Agent.\n"
   ]
  },
  {
   "cell_type": "markdown",
   "id": "7b748d5e",
   "metadata": {},
   "source": []
  },
  {
   "cell_type": "code",
   "execution_count": null,
   "id": "91c03df8",
   "metadata": {},
   "outputs": [],
   "source": []
  }
 ],
 "metadata": {
  "kernelspec": {
   "display_name": "base",
   "language": "python",
   "name": "python3"
  },
  "language_info": {
   "codemirror_mode": {
    "name": "ipython",
    "version": 3
   },
   "file_extension": ".py",
   "mimetype": "text/x-python",
   "name": "python",
   "nbconvert_exporter": "python",
   "pygments_lexer": "ipython3",
   "version": "3.12.7"
  }
 },
 "nbformat": 4,
 "nbformat_minor": 5
}
