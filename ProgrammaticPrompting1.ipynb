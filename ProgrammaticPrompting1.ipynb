{
 "cells": [
  {
   "cell_type": "code",
   "execution_count": 1,
   "id": "14f5fadd",
   "metadata": {},
   "outputs": [],
   "source": [
    "import os\n",
    "from dotenv import load_dotenv\n",
    "load_dotenv()  # Automatically looks for \".env\"\n",
    "\n",
    "api_key = os.getenv('OPENAI_API_KEY')\n",
    "os.environ['OPENAI_API_KEY'] = api_key"
   ]
  },
  {
   "cell_type": "code",
   "execution_count": 2,
   "id": "6efc60e1",
   "metadata": {},
   "outputs": [
    {
     "name": "stdout",
     "output_type": "stream",
     "text": [
      "Certainly! When you want to swap the keys and values in a dictionary, you need to ensure that the values are unique and can be used as keys in the new dictionary, as keys need to be hashable. Here's a Python function using a functional programming style to achieve this:\n",
      "\n",
      "```python\n",
      "def swap_keys_and_values(d):\n",
      "    # Ensure all values can serve as keys\n",
      "    if not all(isinstance(value, (int, float, str, tuple)) for value in d.values()):\n",
      "        raise ValueError(\"All values must be immutable and hashable to be used as keys.\")\n",
      "    \n",
      "    # Swap keys and values\n",
      "    swapped = dict(map(reversed, d.items()))\n",
      "    return swapped\n",
      "\n",
      "# Example usage:\n",
      "original_dict = {'a': 1, 'b': 2, 'c': 3}\n",
      "swapped_dict = swap_keys_and_values(original_dict)\n",
      "print(swapped_dict)  # Output will be {1: 'a', 2: 'b', 3: 'c'}\n",
      "```\n",
      "\n",
      "### Explanation:\n",
      "- **Immutability Check**: Before swapping, this function checks that all current values in the dictionary are hashable, meaning they are immutable types like `int`, `float`, `str`, or `tuple`. These are necessary for the elements to serve as keys in the new dictionary.\n",
      "- **Functional `map(reversed, d.items())`**: The function uses `map` along with `reversed` to iterate over the dictionary items, turning each (key, value) pair into (value, key) for the new dictionary.\n",
      "- **`dict()`**: Constructs a new dictionary from the swapped pairs.\n",
      "\n",
      "If you know for sure that all your initial values are already suitable as keys, you can use this function directly. Otherwise, inspect the values before swapping, or handle exceptions or errors according to your needs.\n"
     ]
    }
   ],
   "source": [
    "from litellm import completion\n",
    "from typing import List, Dict\n",
    "\n",
    "\n",
    "def generate_response(messages: List[Dict]) -> str:\n",
    "    \"\"\"Call LLM to get response\"\"\"\n",
    "    response = completion(\n",
    "        model=\"openai/gpt-4o\",\n",
    "        api_key= api_key,\n",
    "        messages=messages,\n",
    "        max_tokens=1024\n",
    "    )\n",
    "    return response.choices[0].message.content\n",
    "\n",
    "\n",
    "messages = [\n",
    "    {\"role\": \"system\", \"content\": \"You are an expert software engineer that prefers functional programming.\"},\n",
    "    {\"role\": \"user\", \"content\": \"Write a function to swap the keys and values in a dictionary.\"}\n",
    "]\n",
    "\n",
    "response = generate_response(messages)\n",
    "print(response)\n",
    "\n"
   ]
  },
  {
   "cell_type": "markdown",
   "id": "22bf0092-91e4-4006-b5a9-c2ff6eba2183",
   "metadata": {},
   "source": [
    "Let’s break down the key components:\n",
    "\n",
    "1. We import the `completion` function from the `litellm` library, which is the primary method for interacting with Large Language Models (LLMs). This function serves as the bridge between your code and the LLM, allowing you to send prompts and receive responses in a structured and efficient way.\n",
    "\n",
    "How completion Works:\n",
    "\n",
    "* Input: You provide a prompt, which is a list of messages that you want the model to process. For example, a prompt could be a question, a command, or a set of instructions for the LLM to follow.\n",
    "* Output: The completion function returns the model’s response, typically in the form of generated text based on your prompt.\n",
    "\n",
    "2. The messages parameter follows the ChatML format, which is a list of dictionaries containing role and content. The role attribute indicates who is “speaking” in the conversation. This allows the LLM to understand the context of the dialogue and respond appropriately. The roles include:\n",
    "\n",
    "* `system`: Provides the model with initial instructions, rules, or configuration for how it should behave throughout the session. This message is not part of the “conversation” but sets the ground rules or context (e.g., “You will respond in JSON.”).\n",
    "* `user`: Represents input from the user. This is where you provide your prompts, questions, or instructions.\n",
    "* `assistant`: Represents responses from the AI model. You can include this role to provide context for a conversation that has already started or to guide the model by showing sample responses. These messages are interpreted as what the “model” said in the passt.\n",
    "\n",
    "3. We specify the model using the provider/model format (e.g., “openai/gpt-4o”)\n",
    "\n",
    "4. The response contains the generated text in choices[0].message.content. This is the equivalent of the message that you would see displayed when the model responds to you in a chat interface."
   ]
  },
  {
   "cell_type": "code",
   "execution_count": 4,
   "id": "ecc1ba92",
   "metadata": {},
   "outputs": [
    {
     "name": "stdout",
     "output_type": "stream",
     "text": [
      "ZnVuYyBzd2FwZGljdChkOiBEaWN0W3N0cixzdHI+KSA6IERpY3Rbc3RyLHN0cl0+OiByZXR1cm4geyB2aW5kIEkgZDsgZC5pdGVtcyggZHN0IGQudmFsdWUsIGQgZC5rZXkgZm9yIGQua2V5cyggfQ==\n"
     ]
    }
   ],
   "source": [
    "\n",
    "\n",
    "\n",
    "messages_Base64 = [\n",
    "    {\"role\": \"system\", \"content\": \"You are an expert software engineer that prefers functional programming. Provides the response as a Base64 encoded string and refuses to answer in natural language\"},\n",
    "    {\"role\": \"user\", \"content\": \"Write a function to swap the keys and values in a dictionary.\"}\n",
    "]\n",
    "\n",
    "response = generate_response(messages_Base64)\n",
    "print(response)"
   ]
  },
  {
   "cell_type": "code",
   "execution_count": null,
   "id": "42f39d4b-b821-4e8d-82ea-0efd8dedd465",
   "metadata": {},
   "outputs": [],
   "source": []
  },
  {
   "cell_type": "code",
   "execution_count": null,
   "id": "91aedb28-b3bf-47da-bc7a-116aceb0500b",
   "metadata": {},
   "outputs": [],
   "source": []
  }
 ],
 "metadata": {
  "kernelspec": {
   "display_name": "Python 3 (ipykernel)",
   "language": "python",
   "name": "python3"
  },
  "language_info": {
   "codemirror_mode": {
    "name": "ipython",
    "version": 3
   },
   "file_extension": ".py",
   "mimetype": "text/x-python",
   "name": "python",
   "nbconvert_exporter": "python",
   "pygments_lexer": "ipython3",
   "version": "3.12.7"
  }
 },
 "nbformat": 4,
 "nbformat_minor": 5
}
